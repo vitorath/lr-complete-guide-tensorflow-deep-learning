{
 "cells": [
  {
   "cell_type": "markdown",
   "metadata": {},
   "source": [
    "# Cost functions"
   ]
  },
  {
   "cell_type": "code",
   "execution_count": 92,
   "metadata": {},
   "outputs": [],
   "source": [
    "import numpy as np\n",
    "\n",
    "y = np.random.uniform(0, 1, 10)\n",
    "a = y * 0.95 "
   ]
  },
  {
   "cell_type": "markdown",
   "metadata": {},
   "source": [
    "### Quadratc Cost\n",
    "\n",
    "\n",
    "**Pros**: We can see that larger errors are more prominent duo to the squaring<br/>\n",
    "**Against**:Unfortunately this calculation can cause a slowdown in our lerning speed"
   ]
  },
  {
   "cell_type": "code",
   "execution_count": 93,
   "metadata": {},
   "outputs": [
    {
     "data": {
      "text/plain": [
       "'Result is 0.0008636340598452407'"
      ]
     },
     "execution_count": 93,
     "metadata": {},
     "output_type": "execute_result"
    }
   ],
   "source": [
    "def quadraticCost(y, a, n):\n",
    "    return np.sum(np.power(y-a, 2)) / n\n",
    "\n",
    "f'Result is {quadraticCost(y, a, y.size)}'"
   ]
  },
  {
   "cell_type": "markdown",
   "metadata": {},
   "source": [
    "### Cross Entropy\n",
    "\n",
    "This cost function allows for faster learning<br/>\n",
    "The large difference, the faster the neuron can learn"
   ]
  },
  {
   "cell_type": "code",
   "execution_count": 95,
   "metadata": {},
   "outputs": [
    {
     "data": {
      "text/plain": [
       "'Result is 0.5191731835739752'"
      ]
     },
     "execution_count": 95,
     "metadata": {},
     "output_type": "execute_result"
    }
   ],
   "source": [
    "def crossEntropy(y, a, n):\n",
    "    return (-1 / n ) * np.sum(y * np.log(a) + (1-y) * np.log(1-a))\n",
    "\n",
    "f'Result is {crossEntropy(y, a, y.size)}'"
   ]
  }
 ],
 "metadata": {
  "kernelspec": {
   "display_name": "Python 3",
   "language": "python",
   "name": "python3"
  },
  "language_info": {
   "codemirror_mode": {
    "name": "ipython",
    "version": 3
   },
   "file_extension": ".py",
   "mimetype": "text/x-python",
   "name": "python",
   "nbconvert_exporter": "python",
   "pygments_lexer": "ipython3",
   "version": "3.7.4"
  }
 },
 "nbformat": 4,
 "nbformat_minor": 2
}
